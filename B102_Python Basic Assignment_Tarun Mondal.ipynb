{
 "cells": [
  {
   "cell_type": "markdown",
   "id": "4d77601f",
   "metadata": {},
   "source": [
    "# Question 1"
   ]
  },
  {
   "cell_type": "code",
   "execution_count": 1,
   "id": "a9eeff5a",
   "metadata": {},
   "outputs": [],
   "source": [
    "message = \"Welcome to Data science and data analytics class\""
   ]
  },
  {
   "cell_type": "code",
   "execution_count": 2,
   "id": "8e828b9a",
   "metadata": {},
   "outputs": [
    {
     "name": "stdout",
     "output_type": "stream",
     "text": [
      "Welcome to Data science and data analytics class\n"
     ]
    }
   ],
   "source": [
    "print (message)"
   ]
  },
  {
   "cell_type": "markdown",
   "id": "28de78b1",
   "metadata": {},
   "source": [
    "# Question 2"
   ]
  },
  {
   "cell_type": "code",
   "execution_count": 3,
   "id": "6d581233",
   "metadata": {},
   "outputs": [],
   "source": [
    "Original_message = \"Welcome to Python class\""
   ]
  },
  {
   "cell_type": "code",
   "execution_count": 4,
   "id": "f03ba24c",
   "metadata": {},
   "outputs": [],
   "source": [
    "modifified_message = Original_message.replace('Python', 'Tableau')"
   ]
  },
  {
   "cell_type": "code",
   "execution_count": 5,
   "id": "7720458e",
   "metadata": {},
   "outputs": [
    {
     "name": "stdout",
     "output_type": "stream",
     "text": [
      "Welcome to Tableau class\n"
     ]
    }
   ],
   "source": [
    "print(modifified_message)"
   ]
  },
  {
   "cell_type": "markdown",
   "id": "35a05301",
   "metadata": {},
   "source": [
    "# Question 3"
   ]
  },
  {
   "cell_type": "code",
   "execution_count": 6,
   "id": "50470b49",
   "metadata": {},
   "outputs": [
    {
     "name": "stdout",
     "output_type": "stream",
     "text": [
      "Enter your name: Tarun\n"
     ]
    }
   ],
   "source": [
    "name = input(\"Enter your name: \")"
   ]
  },
  {
   "cell_type": "code",
   "execution_count": 7,
   "id": "b7d1955d",
   "metadata": {},
   "outputs": [
    {
     "name": "stdout",
     "output_type": "stream",
     "text": [
      "Hello Tarun, would you like to learn some python today?\n"
     ]
    }
   ],
   "source": [
    "print (f\"Hello {name}, would you like to learn some python today?\")"
   ]
  },
  {
   "cell_type": "markdown",
   "id": "5f9a37a4",
   "metadata": {},
   "source": [
    "# Question 4"
   ]
  },
  {
   "cell_type": "code",
   "execution_count": 8,
   "id": "6111de2a",
   "metadata": {},
   "outputs": [],
   "source": [
    "Quote = \"When you don’t have anything, then you have everything.\""
   ]
  },
  {
   "cell_type": "code",
   "execution_count": 9,
   "id": "dfd6a454",
   "metadata": {},
   "outputs": [],
   "source": [
    "author = \"Mother Teresa\""
   ]
  },
  {
   "cell_type": "code",
   "execution_count": 10,
   "id": "6052bad6",
   "metadata": {},
   "outputs": [
    {
     "name": "stdout",
     "output_type": "stream",
     "text": [
      "Mother Teresa once said, \"When you don’t have anything, then you have everything.\"\n"
     ]
    }
   ],
   "source": [
    "print (f'{author} once said, \"{Quote}\"')"
   ]
  },
  {
   "cell_type": "markdown",
   "id": "bd4c126e",
   "metadata": {},
   "source": [
    "# Question 5"
   ]
  },
  {
   "cell_type": "code",
   "execution_count": 11,
   "id": "3e9b902e",
   "metadata": {},
   "outputs": [],
   "source": [
    "famous_person = \"Mother Teresa\""
   ]
  },
  {
   "cell_type": "code",
   "execution_count": 12,
   "id": "22e3992b",
   "metadata": {},
   "outputs": [],
   "source": [
    "message = f\"I love the way {famous_person} sacrifise her life for the betterment of the society\""
   ]
  },
  {
   "cell_type": "code",
   "execution_count": 13,
   "id": "bfb55715",
   "metadata": {},
   "outputs": [
    {
     "name": "stdout",
     "output_type": "stream",
     "text": [
      "I love the way Mother Teresa sacrifise her life for the betterment of the society\n"
     ]
    }
   ],
   "source": [
    "print (message)"
   ]
  },
  {
   "cell_type": "markdown",
   "id": "7678b0d1",
   "metadata": {},
   "source": [
    "# Question 6"
   ]
  },
  {
   "cell_type": "code",
   "execution_count": 14,
   "id": "66d66bd8",
   "metadata": {},
   "outputs": [
    {
     "name": "stdout",
     "output_type": "stream",
     "text": [
      "8\n"
     ]
    }
   ],
   "source": [
    "print(6+2)"
   ]
  },
  {
   "cell_type": "code",
   "execution_count": 15,
   "id": "ef8a43e4",
   "metadata": {},
   "outputs": [
    {
     "name": "stdout",
     "output_type": "stream",
     "text": [
      "8\n"
     ]
    }
   ],
   "source": [
    "print(4*2)"
   ]
  },
  {
   "cell_type": "code",
   "execution_count": 16,
   "id": "5051e882",
   "metadata": {},
   "outputs": [
    {
     "name": "stdout",
     "output_type": "stream",
     "text": [
      "8\n"
     ]
    }
   ],
   "source": [
    "print(10-2)"
   ]
  },
  {
   "cell_type": "code",
   "execution_count": 17,
   "id": "1bd95e01",
   "metadata": {},
   "outputs": [
    {
     "name": "stdout",
     "output_type": "stream",
     "text": [
      "8\n"
     ]
    }
   ],
   "source": [
    "print (int(16/2))"
   ]
  },
  {
   "cell_type": "markdown",
   "id": "eec48de4",
   "metadata": {},
   "source": [
    "# Question 7"
   ]
  },
  {
   "cell_type": "code",
   "execution_count": 18,
   "id": "9611517e",
   "metadata": {},
   "outputs": [],
   "source": [
    "favourite_number = int(26)"
   ]
  },
  {
   "cell_type": "code",
   "execution_count": 19,
   "id": "8d61863a",
   "metadata": {},
   "outputs": [
    {
     "name": "stdout",
     "output_type": "stream",
     "text": [
      "My favourite number is: 26\n"
     ]
    }
   ],
   "source": [
    "print (f\"My favourite number is: {favourite_number}\")"
   ]
  },
  {
   "cell_type": "markdown",
   "id": "d6bb140a",
   "metadata": {},
   "source": [
    "# Question 8"
   ]
  },
  {
   "cell_type": "code",
   "execution_count": 20,
   "id": "edf4c813",
   "metadata": {},
   "outputs": [
    {
     "name": "stdout",
     "output_type": "stream",
     "text": [
      "I love the way Mother Teresa sacrifise her life for the betterment of the society\n"
     ]
    }
   ],
   "source": [
    "# Tarun Mondal_16/07/2024\n",
    "famous_person = \"Mother Teresa\"\n",
    "message = f\"I love the way {famous_person} sacrifise her life for the betterment of the society\"\n",
    "print (message)\n",
    "# This program store the name of the famous person and print after composing my message"
   ]
  },
  {
   "cell_type": "code",
   "execution_count": 21,
   "id": "fed61b7c",
   "metadata": {},
   "outputs": [
    {
     "name": "stdout",
     "output_type": "stream",
     "text": [
      "Welcome to Tableau class\n"
     ]
    }
   ],
   "source": [
    "Original_message = \"Welcome to Python class\"\n",
    "modifified_message = Original_message.replace('Python', 'Tableau')\n",
    "print(modifified_message)\n",
    "# This program store a message in a variable and use replace function to replace a string with another string"
   ]
  },
  {
   "cell_type": "markdown",
   "id": "a0b343d2",
   "metadata": {},
   "source": [
    "# Question 9"
   ]
  },
  {
   "cell_type": "code",
   "execution_count": 22,
   "id": "3fc03de5",
   "metadata": {},
   "outputs": [],
   "source": [
    "Friends = ['Suman', 'Arnab', 'Koushik', 'Sayan', 'Monalisa', 'Debanjana']"
   ]
  },
  {
   "cell_type": "code",
   "execution_count": 23,
   "id": "9dc25fc0",
   "metadata": {},
   "outputs": [
    {
     "name": "stdout",
     "output_type": "stream",
     "text": [
      "6\n"
     ]
    }
   ],
   "source": [
    "print(len(Friends))"
   ]
  },
  {
   "cell_type": "code",
   "execution_count": 24,
   "id": "f19b6471",
   "metadata": {},
   "outputs": [
    {
     "data": {
      "text/plain": [
       "'Suman'"
      ]
     },
     "execution_count": 24,
     "metadata": {},
     "output_type": "execute_result"
    }
   ],
   "source": [
    "Friends[0]"
   ]
  },
  {
   "cell_type": "code",
   "execution_count": 25,
   "id": "caef49d0",
   "metadata": {},
   "outputs": [
    {
     "data": {
      "text/plain": [
       "'Arnab'"
      ]
     },
     "execution_count": 25,
     "metadata": {},
     "output_type": "execute_result"
    }
   ],
   "source": [
    "Friends[1]"
   ]
  },
  {
   "cell_type": "code",
   "execution_count": 26,
   "id": "9022b24b",
   "metadata": {},
   "outputs": [
    {
     "data": {
      "text/plain": [
       "'Koushik'"
      ]
     },
     "execution_count": 26,
     "metadata": {},
     "output_type": "execute_result"
    }
   ],
   "source": [
    "Friends[2]"
   ]
  },
  {
   "cell_type": "code",
   "execution_count": 27,
   "id": "4bba4694",
   "metadata": {},
   "outputs": [
    {
     "data": {
      "text/plain": [
       "'Sayan'"
      ]
     },
     "execution_count": 27,
     "metadata": {},
     "output_type": "execute_result"
    }
   ],
   "source": [
    "Friends[3]"
   ]
  },
  {
   "cell_type": "code",
   "execution_count": 28,
   "id": "76261b04",
   "metadata": {},
   "outputs": [
    {
     "data": {
      "text/plain": [
       "'Monalisa'"
      ]
     },
     "execution_count": 28,
     "metadata": {},
     "output_type": "execute_result"
    }
   ],
   "source": [
    "Friends[4]"
   ]
  },
  {
   "cell_type": "code",
   "execution_count": 29,
   "id": "76f5a535",
   "metadata": {},
   "outputs": [
    {
     "data": {
      "text/plain": [
       "'Debanjana'"
      ]
     },
     "execution_count": 29,
     "metadata": {},
     "output_type": "execute_result"
    }
   ],
   "source": [
    "Friends[5]"
   ]
  },
  {
   "cell_type": "markdown",
   "id": "b06e43ff",
   "metadata": {},
   "source": [
    "# Question 10"
   ]
  },
  {
   "cell_type": "code",
   "execution_count": 30,
   "id": "62c5e8ee",
   "metadata": {},
   "outputs": [],
   "source": [
    "Friends = ['Suman', 'Arnab', 'Koushik', 'Sayan', 'Monalisa', 'Debanjana']"
   ]
  },
  {
   "cell_type": "code",
   "execution_count": 31,
   "id": "8df70a2c",
   "metadata": {},
   "outputs": [
    {
     "name": "stdout",
     "output_type": "stream",
     "text": [
      "Good Night Suman\n"
     ]
    }
   ],
   "source": [
    "print(f\"Good Night {Friends[0]}\")"
   ]
  },
  {
   "cell_type": "code",
   "execution_count": 32,
   "id": "de527411",
   "metadata": {},
   "outputs": [
    {
     "name": "stdout",
     "output_type": "stream",
     "text": [
      "Good Night Arnab\n"
     ]
    }
   ],
   "source": [
    "print(f\"Good Night {Friends[1]}\")"
   ]
  },
  {
   "cell_type": "code",
   "execution_count": 33,
   "id": "ccad1e81",
   "metadata": {},
   "outputs": [
    {
     "name": "stdout",
     "output_type": "stream",
     "text": [
      "Good Night Koushik\n"
     ]
    }
   ],
   "source": [
    "print(f\"Good Night {Friends[2]}\")"
   ]
  },
  {
   "cell_type": "code",
   "execution_count": 34,
   "id": "fb1bea46",
   "metadata": {},
   "outputs": [
    {
     "name": "stdout",
     "output_type": "stream",
     "text": [
      "Good Night Sayan\n"
     ]
    }
   ],
   "source": [
    "print(f\"Good Night {Friends[3]}\")"
   ]
  },
  {
   "cell_type": "code",
   "execution_count": 35,
   "id": "fbfde323",
   "metadata": {},
   "outputs": [
    {
     "name": "stdout",
     "output_type": "stream",
     "text": [
      "Good Night Monalisa\n"
     ]
    }
   ],
   "source": [
    "print(f\"Good Night {Friends[4]}\")"
   ]
  },
  {
   "cell_type": "code",
   "execution_count": 36,
   "id": "c8a21eca",
   "metadata": {},
   "outputs": [
    {
     "name": "stdout",
     "output_type": "stream",
     "text": [
      "Good Night Debanjana\n"
     ]
    }
   ],
   "source": [
    "print(f\"Good Night {Friends[5]}\")"
   ]
  },
  {
   "cell_type": "markdown",
   "id": "d7f1e6ad",
   "metadata": {},
   "source": [
    "# Question 11"
   ]
  },
  {
   "cell_type": "code",
   "execution_count": 37,
   "id": "f5bbd1df",
   "metadata": {},
   "outputs": [],
   "source": [
    "transportation_mode = ['Train', 'Scooter', 'Bus']"
   ]
  },
  {
   "cell_type": "code",
   "execution_count": 38,
   "id": "a39ef63b",
   "metadata": {},
   "outputs": [
    {
     "name": "stdout",
     "output_type": "stream",
     "text": [
      "I love travelling long distance by Train\n"
     ]
    }
   ],
   "source": [
    "print (f\"I love travelling long distance by {transportation_mode[0]}\")"
   ]
  },
  {
   "cell_type": "code",
   "execution_count": 39,
   "id": "997f835a",
   "metadata": {},
   "outputs": [
    {
     "name": "stdout",
     "output_type": "stream",
     "text": [
      "I preffered Scooter to travel intra-city or shorter distance\n"
     ]
    }
   ],
   "source": [
    "print (f\"I preffered {transportation_mode[1]} to travel intra-city or shorter distance\")"
   ]
  },
  {
   "cell_type": "code",
   "execution_count": 40,
   "id": "d56daece",
   "metadata": {},
   "outputs": [
    {
     "name": "stdout",
     "output_type": "stream",
     "text": [
      " Travelling by Bus can be a good experience in Kolkata if you are new in Kolkata\n"
     ]
    }
   ],
   "source": [
    "print (f\" Travelling by {transportation_mode[2]} can be a good experience in Kolkata if you are new in Kolkata\")"
   ]
  }
 ],
 "metadata": {
  "kernelspec": {
   "display_name": "Python 3 (ipykernel)",
   "language": "python",
   "name": "python3"
  },
  "language_info": {
   "codemirror_mode": {
    "name": "ipython",
    "version": 3
   },
   "file_extension": ".py",
   "mimetype": "text/x-python",
   "name": "python",
   "nbconvert_exporter": "python",
   "pygments_lexer": "ipython3",
   "version": "3.9.13"
  }
 },
 "nbformat": 4,
 "nbformat_minor": 5
}
